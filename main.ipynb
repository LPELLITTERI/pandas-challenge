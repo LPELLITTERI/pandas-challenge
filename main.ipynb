{
 "cells": [
  {
   "cell_type": "code",
   "execution_count": 2,
   "id": "a28f0497",
   "metadata": {},
   "outputs": [],
   "source": [
    "import os\n",
    "import pandas as pd\n",
    "import numpy as np"
   ]
  },
  {
   "cell_type": "code",
   "execution_count": 4,
   "id": "0cfb9188",
   "metadata": {},
   "outputs": [
    {
     "data": {
      "text/html": [
       "<div>\n",
       "<style scoped>\n",
       "    .dataframe tbody tr th:only-of-type {\n",
       "        vertical-align: middle;\n",
       "    }\n",
       "\n",
       "    .dataframe tbody tr th {\n",
       "        vertical-align: top;\n",
       "    }\n",
       "\n",
       "    .dataframe thead th {\n",
       "        text-align: right;\n",
       "    }\n",
       "</style>\n",
       "<table border=\"1\" class=\"dataframe\">\n",
       "  <thead>\n",
       "    <tr style=\"text-align: right;\">\n",
       "      <th></th>\n",
       "      <th>Student ID</th>\n",
       "      <th>student_name</th>\n",
       "      <th>gender</th>\n",
       "      <th>grade</th>\n",
       "      <th>school_name</th>\n",
       "      <th>reading_score</th>\n",
       "      <th>math_score</th>\n",
       "      <th>School ID</th>\n",
       "      <th>type</th>\n",
       "      <th>size</th>\n",
       "      <th>budget</th>\n",
       "    </tr>\n",
       "  </thead>\n",
       "  <tbody>\n",
       "    <tr>\n",
       "      <th>0</th>\n",
       "      <td>0</td>\n",
       "      <td>Paul Bradley</td>\n",
       "      <td>M</td>\n",
       "      <td>9th</td>\n",
       "      <td>Huang High School</td>\n",
       "      <td>66</td>\n",
       "      <td>79</td>\n",
       "      <td>0</td>\n",
       "      <td>District</td>\n",
       "      <td>2917</td>\n",
       "      <td>1910635</td>\n",
       "    </tr>\n",
       "    <tr>\n",
       "      <th>1</th>\n",
       "      <td>1</td>\n",
       "      <td>Victor Smith</td>\n",
       "      <td>M</td>\n",
       "      <td>12th</td>\n",
       "      <td>Huang High School</td>\n",
       "      <td>94</td>\n",
       "      <td>61</td>\n",
       "      <td>0</td>\n",
       "      <td>District</td>\n",
       "      <td>2917</td>\n",
       "      <td>1910635</td>\n",
       "    </tr>\n",
       "    <tr>\n",
       "      <th>2</th>\n",
       "      <td>2</td>\n",
       "      <td>Kevin Rodriguez</td>\n",
       "      <td>M</td>\n",
       "      <td>12th</td>\n",
       "      <td>Huang High School</td>\n",
       "      <td>90</td>\n",
       "      <td>60</td>\n",
       "      <td>0</td>\n",
       "      <td>District</td>\n",
       "      <td>2917</td>\n",
       "      <td>1910635</td>\n",
       "    </tr>\n",
       "    <tr>\n",
       "      <th>3</th>\n",
       "      <td>3</td>\n",
       "      <td>Dr. Richard Scott</td>\n",
       "      <td>M</td>\n",
       "      <td>12th</td>\n",
       "      <td>Huang High School</td>\n",
       "      <td>67</td>\n",
       "      <td>58</td>\n",
       "      <td>0</td>\n",
       "      <td>District</td>\n",
       "      <td>2917</td>\n",
       "      <td>1910635</td>\n",
       "    </tr>\n",
       "    <tr>\n",
       "      <th>4</th>\n",
       "      <td>4</td>\n",
       "      <td>Bonnie Ray</td>\n",
       "      <td>F</td>\n",
       "      <td>9th</td>\n",
       "      <td>Huang High School</td>\n",
       "      <td>97</td>\n",
       "      <td>84</td>\n",
       "      <td>0</td>\n",
       "      <td>District</td>\n",
       "      <td>2917</td>\n",
       "      <td>1910635</td>\n",
       "    </tr>\n",
       "  </tbody>\n",
       "</table>\n",
       "</div>"
      ],
      "text/plain": [
       "   Student ID       student_name gender grade        school_name  \\\n",
       "0           0       Paul Bradley      M   9th  Huang High School   \n",
       "1           1       Victor Smith      M  12th  Huang High School   \n",
       "2           2    Kevin Rodriguez      M  12th  Huang High School   \n",
       "3           3  Dr. Richard Scott      M  12th  Huang High School   \n",
       "4           4         Bonnie Ray      F   9th  Huang High School   \n",
       "\n",
       "   reading_score  math_score  School ID      type  size   budget  \n",
       "0             66          79          0  District  2917  1910635  \n",
       "1             94          61          0  District  2917  1910635  \n",
       "2             90          60          0  District  2917  1910635  \n",
       "3             67          58          0  District  2917  1910635  \n",
       "4             97          84          0  District  2917  1910635  "
      ]
     },
     "execution_count": 4,
     "metadata": {},
     "output_type": "execute_result"
    }
   ],
   "source": [
    "#Dependencies\n",
    "import pandas as pd\n",
    "\n",
    "#File path\n",
    "school_data_to_load = \"Resources/schools_complete.csv\"\n",
    "student_data_to_load = \"Resources/students_complete.csv\"\n",
    "\n",
    "# Read School and Student Data File and store into Pandas DataFrames\n",
    "school_data = pd.read_csv(school_data_to_load)\n",
    "student_data = pd.read_csv(student_data_to_load)\n",
    "\n",
    "\n",
    "# Combine the data into a single dataset.  \n",
    "school_data_total = pd.merge(student_data, school_data, how=\"left\", on = [\"school_name\",\"school_name\"])\n",
    "school_data_total.head()\n"
   ]
  },
  {
   "cell_type": "code",
   "execution_count": 240,
   "id": "4bbfb20f",
   "metadata": {
    "scrolled": true
   },
   "outputs": [
    {
     "name": "stdout",
     "output_type": "stream",
     "text": [
      "['Huang High School' 'Figueroa High School' 'Shelton High School'\n",
      " 'Hernandez High School' 'Griffin High School' 'Wilson High School'\n",
      " 'Cabrera High School' 'Bailey High School' 'Holden High School'\n",
      " 'Pena High School' 'Wright High School' 'Rodriguez High School'\n",
      " 'Johnson High School' 'Ford High School' 'Thomas High School']\n"
     ]
    }
   ],
   "source": [
    "#total number of uniques schools\n",
    "school_total_unique = school_data['school_name'].unique()\n",
    "print(school_total_unique)\n",
    "\n"
   ]
  },
  {
   "cell_type": "code",
   "execution_count": null,
   "id": "56aea477",
   "metadata": {},
   "outputs": [],
   "source": [
    "school_total_unique = []\n",
    "school_total = []\n",
    "total_students = []\n",
    "total_budget = []\n",
    "average_math_score = []\n",
    "average_reading_score = []\n",
    "avg_pass_math = []\n",
    "avg_pass_read = []\n",
    "pass_math_reading_count = []\n",
    "school_types = []\n",
    "student_count = []\n",
    "per_school_capita = []                                                  "
   ]
  },
  {
   "cell_type": "code",
   "execution_count": 241,
   "id": "177da83b",
   "metadata": {},
   "outputs": [
    {
     "data": {
      "text/plain": [
       "15"
      ]
     },
     "execution_count": 241,
     "metadata": {},
     "output_type": "execute_result"
    }
   ],
   "source": [
    "#calculate total number unique schools\n",
    "len(school_total_unique)"
   ]
  },
  {
   "cell_type": "code",
   "execution_count": 7,
   "id": "1b1f6911",
   "metadata": {},
   "outputs": [
    {
     "name": "stdout",
     "output_type": "stream",
     "text": [
      "39170\n"
     ]
    }
   ],
   "source": [
    "school_total = school_data_total['School ID'].count()\n",
    "print(school_total)"
   ]
  },
  {
   "cell_type": "code",
   "execution_count": 6,
   "id": "61af9713",
   "metadata": {},
   "outputs": [
    {
     "name": "stdout",
     "output_type": "stream",
     "text": [
      "39170\n"
     ]
    }
   ],
   "source": [
    "#total number of students\n",
    "total_students = school_data_total['student_name'].count()\n",
    "print(total_students)\n"
   ]
  },
  {
   "cell_type": "code",
   "execution_count": 13,
   "id": "8b5cbc5f",
   "metadata": {},
   "outputs": [
    {
     "name": "stdout",
     "output_type": "stream",
     "text": [
      "24649428\n"
     ]
    }
   ],
   "source": [
    "#calculate total budget for schools\n",
    "total_budget = school_data['budget'].sum()\n",
    "print(total_budget )"
   ]
  },
  {
   "cell_type": "code",
   "execution_count": 14,
   "id": "32a4b4b2",
   "metadata": {},
   "outputs": [
    {
     "name": "stdout",
     "output_type": "stream",
     "text": [
      "78.98537145774827\n"
     ]
    }
   ],
   "source": [
    "# calculate avg math score \n",
    "average_math_score = school_data_total['math_score'].mean()\n",
    "print(average_math_score)"
   ]
  },
  {
   "cell_type": "code",
   "execution_count": 15,
   "id": "416e5b54",
   "metadata": {},
   "outputs": [
    {
     "name": "stdout",
     "output_type": "stream",
     "text": [
      "81.87784018381414\n"
     ]
    }
   ],
   "source": [
    "#calculate avg reading score \n",
    "average_reading_score = school_data_total['reading_score'].mean()\n",
    "print(average_reading_score)"
   ]
  },
  {
   "cell_type": "code",
   "execution_count": 16,
   "id": "bf2a9f8c",
   "metadata": {},
   "outputs": [
    {
     "name": "stdout",
     "output_type": "stream",
     "text": [
      "74.9808526933878\n"
     ]
    }
   ],
   "source": [
    "#percentage passing math\n",
    "avg_math_score = school_data_total.loc[school_data_total['math_score'] >= 70]\n",
    "avg_pass_math = len(avg_math_score)/ total_students * 100\n",
    "print(avg_pass_math)"
   ]
  },
  {
   "cell_type": "code",
   "execution_count": 18,
   "id": "74b99f93",
   "metadata": {},
   "outputs": [
    {
     "name": "stdout",
     "output_type": "stream",
     "text": [
      "85.80546336482001\n"
     ]
    }
   ],
   "source": [
    "\n",
    "#percentage passing reading\n",
    "avg_reading_score = school_data_total.loc[school_data_total['reading_score'] >= 70]\n",
    "avg_pass_read = len(avg_reading_score)/ total_students * 100\n",
    "print(avg_pass_read)"
   ]
  },
  {
   "cell_type": "code",
   "execution_count": 24,
   "id": "d81caf27",
   "metadata": {},
   "outputs": [
    {
     "data": {
      "text/plain": [
       "65.17232575950983"
      ]
     },
     "execution_count": 24,
     "metadata": {},
     "output_type": "execute_result"
    }
   ],
   "source": [
    " #calculate overall pass score math/read\n",
    "pass_math_reading_count = school_data_total[\n",
    "    (school_data_total[\"math_score\"] >= 70) & (school_data_total[\"reading_score\"] >= 70)\n",
    "].count()[\"student_name\"]\n",
    "overall_pass = pass_math_reading_count /  float(total_students) * 100\n",
    "overall_pass"
   ]
  },
  {
   "cell_type": "code",
   "execution_count": 25,
   "id": "fe2af151",
   "metadata": {},
   "outputs": [
    {
     "data": {
      "text/html": [
       "<div>\n",
       "<style scoped>\n",
       "    .dataframe tbody tr th:only-of-type {\n",
       "        vertical-align: middle;\n",
       "    }\n",
       "\n",
       "    .dataframe tbody tr th {\n",
       "        vertical-align: top;\n",
       "    }\n",
       "\n",
       "    .dataframe thead th {\n",
       "        text-align: right;\n",
       "    }\n",
       "</style>\n",
       "<table border=\"1\" class=\"dataframe\">\n",
       "  <thead>\n",
       "    <tr style=\"text-align: right;\">\n",
       "      <th></th>\n",
       "      <th>Total Schools</th>\n",
       "      <th>Total Students</th>\n",
       "      <th>Total Budget</th>\n",
       "      <th>Average Math Score</th>\n",
       "      <th>Average Reading Score</th>\n",
       "      <th>% Passing Math</th>\n",
       "      <th>% Passing Reading</th>\n",
       "      <th>% Overall Pass Rate</th>\n",
       "    </tr>\n",
       "  </thead>\n",
       "  <tbody>\n",
       "    <tr>\n",
       "      <th>0</th>\n",
       "      <td>39170</td>\n",
       "      <td>39170</td>\n",
       "      <td>$24,649,428.00</td>\n",
       "      <td>78.985371</td>\n",
       "      <td>81.87784</td>\n",
       "      <td>74.980853</td>\n",
       "      <td>85.805463</td>\n",
       "      <td>65.172326</td>\n",
       "    </tr>\n",
       "  </tbody>\n",
       "</table>\n",
       "</div>"
      ],
      "text/plain": [
       "   Total Schools  Total Students    Total Budget  Average Math Score  \\\n",
       "0          39170           39170  $24,649,428.00           78.985371   \n",
       "\n",
       "   Average Reading Score  % Passing Math  % Passing Reading  \\\n",
       "0               81.87784       74.980853          85.805463   \n",
       "\n",
       "   % Overall Pass Rate  \n",
       "0            65.172326  "
      ]
     },
     "execution_count": 25,
     "metadata": {},
     "output_type": "execute_result"
    }
   ],
   "source": [
    "#create dataframe for district summary\n",
    "district_summary = pd.DataFrame({\"Total Schools\": school_total,\n",
    "                                \"Total Students\": total_students,\n",
    "                                \"Total Budget\": total_budget,\n",
    "                                \"Average Math Score\": average_math_score,\n",
    "                                \"Average Reading Score\": average_reading_score,\n",
    "                                \"% Passing Math\": avg_pass_math,\n",
    "                                \"% Passing Reading\": avg_pass_read,\n",
    "                                \"% Overall Pass Rate\": [overall_pass]})\n",
    "#Reorganize columns with double brackets\n",
    "district_summary = district_summary[[\"Total Schools\", \"Total Students\", \"Total Budget\", \n",
    "                                     \"Average Math Score\", \"Average Reading Score\", \n",
    "                                     \"% Passing Math\", \"% Passing Reading\", \"% Overall Pass Rate\"]]\n",
    "\n",
    "# Format to \"$0,000.00\"\n",
    "district_summary['Total Budget'] = district_summary['Total Budget'].map('${:,.2f}'.format)\n",
    "\n",
    "district_summary"
   ]
  },
  {
   "cell_type": "markdown",
   "id": "638c7ec2",
   "metadata": {},
   "source": [
    "avg_reading_scores = school_data_total.groupby(\"school_name\").mean()[\"reading_score\"]\n",
    "avg_math_scores = school_data_total.groupby(\"school_name\").mean()[\"math_score\"]\n",
    "total_budget_by_school = school_data_total.groupby(\"school_name\").mean()[\"budget\"]\n",
    "school_type = school_data_total.groupby(\"type\")\n",
    "pd.DataFrame([avg_reading_scores, avg_math_scores, total_budget_by_school]).transpose()"
   ]
  },
  {
   "cell_type": "code",
   "execution_count": 31,
   "id": "8b17380f",
   "metadata": {},
   "outputs": [
    {
     "data": {
      "text/html": [
       "<div>\n",
       "<style scoped>\n",
       "    .dataframe tbody tr th:only-of-type {\n",
       "        vertical-align: middle;\n",
       "    }\n",
       "\n",
       "    .dataframe tbody tr th {\n",
       "        vertical-align: top;\n",
       "    }\n",
       "\n",
       "    .dataframe thead th {\n",
       "        text-align: right;\n",
       "    }\n",
       "</style>\n",
       "<table border=\"1\" class=\"dataframe\">\n",
       "  <thead>\n",
       "    <tr style=\"text-align: right;\">\n",
       "      <th></th>\n",
       "      <th>budget</th>\n",
       "      <th>math_score</th>\n",
       "      <th>reading_score</th>\n",
       "      <th>student_name</th>\n",
       "    </tr>\n",
       "    <tr>\n",
       "      <th>school_name</th>\n",
       "      <th></th>\n",
       "      <th></th>\n",
       "      <th></th>\n",
       "      <th></th>\n",
       "    </tr>\n",
       "  </thead>\n",
       "  <tbody>\n",
       "    <tr>\n",
       "      <th>Bailey High School</th>\n",
       "      <td>3124928</td>\n",
       "      <td>77.048432</td>\n",
       "      <td>81.033963</td>\n",
       "      <td>4976</td>\n",
       "    </tr>\n",
       "    <tr>\n",
       "      <th>Cabrera High School</th>\n",
       "      <td>1081356</td>\n",
       "      <td>83.061895</td>\n",
       "      <td>83.975780</td>\n",
       "      <td>1858</td>\n",
       "    </tr>\n",
       "    <tr>\n",
       "      <th>Figueroa High School</th>\n",
       "      <td>1884411</td>\n",
       "      <td>76.711767</td>\n",
       "      <td>81.158020</td>\n",
       "      <td>2949</td>\n",
       "    </tr>\n",
       "    <tr>\n",
       "      <th>Ford High School</th>\n",
       "      <td>1763916</td>\n",
       "      <td>77.102592</td>\n",
       "      <td>80.746258</td>\n",
       "      <td>2739</td>\n",
       "    </tr>\n",
       "    <tr>\n",
       "      <th>Griffin High School</th>\n",
       "      <td>917500</td>\n",
       "      <td>83.351499</td>\n",
       "      <td>83.816757</td>\n",
       "      <td>1468</td>\n",
       "    </tr>\n",
       "    <tr>\n",
       "      <th>Hernandez High School</th>\n",
       "      <td>3022020</td>\n",
       "      <td>77.289752</td>\n",
       "      <td>80.934412</td>\n",
       "      <td>4635</td>\n",
       "    </tr>\n",
       "    <tr>\n",
       "      <th>Holden High School</th>\n",
       "      <td>248087</td>\n",
       "      <td>83.803279</td>\n",
       "      <td>83.814988</td>\n",
       "      <td>427</td>\n",
       "    </tr>\n",
       "    <tr>\n",
       "      <th>Huang High School</th>\n",
       "      <td>1910635</td>\n",
       "      <td>76.629414</td>\n",
       "      <td>81.182722</td>\n",
       "      <td>2917</td>\n",
       "    </tr>\n",
       "    <tr>\n",
       "      <th>Johnson High School</th>\n",
       "      <td>3094650</td>\n",
       "      <td>77.072464</td>\n",
       "      <td>80.966394</td>\n",
       "      <td>4761</td>\n",
       "    </tr>\n",
       "    <tr>\n",
       "      <th>Pena High School</th>\n",
       "      <td>585858</td>\n",
       "      <td>83.839917</td>\n",
       "      <td>84.044699</td>\n",
       "      <td>962</td>\n",
       "    </tr>\n",
       "    <tr>\n",
       "      <th>Rodriguez High School</th>\n",
       "      <td>2547363</td>\n",
       "      <td>76.842711</td>\n",
       "      <td>80.744686</td>\n",
       "      <td>3999</td>\n",
       "    </tr>\n",
       "    <tr>\n",
       "      <th>Shelton High School</th>\n",
       "      <td>1056600</td>\n",
       "      <td>83.359455</td>\n",
       "      <td>83.725724</td>\n",
       "      <td>1761</td>\n",
       "    </tr>\n",
       "    <tr>\n",
       "      <th>Thomas High School</th>\n",
       "      <td>1043130</td>\n",
       "      <td>83.418349</td>\n",
       "      <td>83.848930</td>\n",
       "      <td>1635</td>\n",
       "    </tr>\n",
       "    <tr>\n",
       "      <th>Wilson High School</th>\n",
       "      <td>1319574</td>\n",
       "      <td>83.274201</td>\n",
       "      <td>83.989488</td>\n",
       "      <td>2283</td>\n",
       "    </tr>\n",
       "    <tr>\n",
       "      <th>Wright High School</th>\n",
       "      <td>1049400</td>\n",
       "      <td>83.682222</td>\n",
       "      <td>83.955000</td>\n",
       "      <td>1800</td>\n",
       "    </tr>\n",
       "  </tbody>\n",
       "</table>\n",
       "</div>"
      ],
      "text/plain": [
       "                        budget  math_score  reading_score  student_name\n",
       "school_name                                                            \n",
       "Bailey High School     3124928   77.048432      81.033963          4976\n",
       "Cabrera High School    1081356   83.061895      83.975780          1858\n",
       "Figueroa High School   1884411   76.711767      81.158020          2949\n",
       "Ford High School       1763916   77.102592      80.746258          2739\n",
       "Griffin High School     917500   83.351499      83.816757          1468\n",
       "Hernandez High School  3022020   77.289752      80.934412          4635\n",
       "Holden High School      248087   83.803279      83.814988           427\n",
       "Huang High School      1910635   76.629414      81.182722          2917\n",
       "Johnson High School    3094650   77.072464      80.966394          4761\n",
       "Pena High School        585858   83.839917      84.044699           962\n",
       "Rodriguez High School  2547363   76.842711      80.744686          3999\n",
       "Shelton High School    1056600   83.359455      83.725724          1761\n",
       "Thomas High School     1043130   83.418349      83.848930          1635\n",
       "Wilson High School     1319574   83.274201      83.989488          2283\n",
       "Wright High School     1049400   83.682222      83.955000          1800"
      ]
     },
     "execution_count": 31,
     "metadata": {},
     "output_type": "execute_result"
    }
   ],
   "source": [
    "#agg function create data with function inside table\n",
    "school_data_total.groupby(\"school_name\").agg({\n",
    "    \"budget\": \"mean\",\n",
    "    \"math_score\": \"mean\",\n",
    "    \"reading_score\": \"mean\",\n",
    "    \"student_name\": \"count\"\n",
    "})"
   ]
  },
  {
   "cell_type": "markdown",
   "id": "73343991",
   "metadata": {},
   "source": [
    "# School Summary"
   ]
  },
  {
   "cell_type": "code",
   "execution_count": 26,
   "id": "009b8ab0",
   "metadata": {},
   "outputs": [
    {
     "data": {
      "text/plain": [
       "school_name\n",
       "Huang High School        District\n",
       "Figueroa High School     District\n",
       "Shelton High School       Charter\n",
       "Hernandez High School    District\n",
       "Griffin High School       Charter\n",
       "Wilson High School        Charter\n",
       "Cabrera High School       Charter\n",
       "Bailey High School       District\n",
       "Holden High School        Charter\n",
       "Pena High School          Charter\n",
       "Wright High School        Charter\n",
       "Rodriguez High School    District\n",
       "Johnson High School      District\n",
       "Ford High School         District\n",
       "Thomas High School        Charter\n",
       "Name: type, dtype: object"
      ]
     },
     "execution_count": 26,
     "metadata": {},
     "output_type": "execute_result"
    }
   ],
   "source": [
    "#select school type\n",
    "school_types = school_data.set_index([\"school_name\"])[\"type\"]\n",
    "school_types"
   ]
  },
  {
   "cell_type": "code",
   "execution_count": 30,
   "id": "8e87540a",
   "metadata": {},
   "outputs": [
    {
     "data": {
      "text/plain": [
       "school_name\n",
       "Bailey High School       4976\n",
       "Cabrera High School      1858\n",
       "Figueroa High School     2949\n",
       "Ford High School         2739\n",
       "Griffin High School      1468\n",
       "Hernandez High School    4635\n",
       "Holden High School        427\n",
       "Huang High School        2917\n",
       "Johnson High School      4761\n",
       "Pena High School          962\n",
       "Rodriguez High School    3999\n",
       "Shelton High School      1761\n",
       "Thomas High School       1635\n",
       "Wilson High School       2283\n",
       "Wright High School       1800\n",
       "Name: student_name, dtype: int64"
      ]
     },
     "execution_count": 30,
     "metadata": {},
     "output_type": "execute_result"
    }
   ],
   "source": [
    "#calculate student count\n",
    "student_count = school_data_total.groupby(\"school_name\")[\"student_name\"].count()\n",
    "student_count"
   ]
  },
  {
   "cell_type": "code",
   "execution_count": 36,
   "id": "afdecb44",
   "metadata": {},
   "outputs": [
    {
     "data": {
      "text/plain": [
       "school_name\n",
       "Bailey High School       628.0\n",
       "Cabrera High School      582.0\n",
       "Figueroa High School     639.0\n",
       "Ford High School         644.0\n",
       "Griffin High School      625.0\n",
       "Hernandez High School    652.0\n",
       "Holden High School       581.0\n",
       "Huang High School        655.0\n",
       "Johnson High School      650.0\n",
       "Pena High School         609.0\n",
       "Rodriguez High School    637.0\n",
       "Shelton High School      600.0\n",
       "Thomas High School       638.0\n",
       "Wilson High School       578.0\n",
       "Wright High School       583.0\n",
       "dtype: float64"
      ]
     },
     "execution_count": 36,
     "metadata": {},
     "output_type": "execute_result"
    }
   ],
   "source": [
    "#calculate per capita budget\n",
    "\n",
    "per_school_budget = school_data_total.groupby([\"school_name\"]).mean()[\"budget\"]\n",
    "per_school_capita = per_school_budget / student_count\n",
    "                                                      \n",
    "per_school_capita                                                   "
   ]
  },
  {
   "cell_type": "code",
   "execution_count": null,
   "id": "77b8f91c",
   "metadata": {},
   "outputs": [],
   "source": [
    "#calculate average test scores\n",
    "per_school_math = school_data_total.mean\n",
    "per_school_reading = school_data_total.mean"
   ]
  },
  {
   "cell_type": "code",
   "execution_count": 39,
   "id": "9f5a65fd",
   "metadata": {},
   "outputs": [
    {
     "data": {
      "text/plain": [
       "15"
      ]
     },
     "execution_count": 39,
     "metadata": {},
     "output_type": "execute_result"
    }
   ],
   "source": [
    "school_passing_math = school_data_total.loc[school_data_total[\"math_score\"] >= 70].nunique()[\"school_name\"]\n",
    "school_passing_math"
   ]
  },
  {
   "cell_type": "code",
   "execution_count": 46,
   "id": "48f8ef07",
   "metadata": {},
   "outputs": [
    {
     "ename": "TypeError",
     "evalue": "unsupported operand type(s) for /: 'int' and 'str'",
     "output_type": "error",
     "traceback": [
      "\u001b[0;31m---------------------------------------------------------------------------\u001b[0m",
      "\u001b[0;31mTypeError\u001b[0m                                 Traceback (most recent call last)",
      "\u001b[0;32m/var/folders/sr/pdhryvkj29v9v3m0rlsrr8dm0000gn/T/ipykernel_5529/2338082635.py\u001b[0m in \u001b[0;36m<module>\u001b[0;34m\u001b[0m\n\u001b[1;32m      9\u001b[0m \u001b[0;34m\u001b[0m\u001b[0m\n\u001b[1;32m     10\u001b[0m \u001b[0;31m#calculate per student budget\u001b[0m\u001b[0;34m\u001b[0m\u001b[0;34m\u001b[0m\u001b[0;34m\u001b[0m\u001b[0m\n\u001b[0;32m---> 11\u001b[0;31m \u001b[0mper_capita_spending\u001b[0m \u001b[0;34m=\u001b[0m \u001b[0mschool_summary\u001b[0m\u001b[0;34m[\u001b[0m\u001b[0;34m\"budget\"\u001b[0m\u001b[0;34m]\u001b[0m\u001b[0;34m.\u001b[0m\u001b[0mdiv\u001b[0m\u001b[0;34m(\u001b[0m\u001b[0mschool_summary\u001b[0m\u001b[0;34m[\u001b[0m\u001b[0;34m\"student_name\"\u001b[0m\u001b[0;34m]\u001b[0m\u001b[0;34m)\u001b[0m\u001b[0;34m\u001b[0m\u001b[0;34m\u001b[0m\u001b[0m\n\u001b[0m\u001b[1;32m     12\u001b[0m \u001b[0;34m\u001b[0m\u001b[0m\n\u001b[1;32m     13\u001b[0m \u001b[0;31m#calcualte math pass\u001b[0m\u001b[0;34m\u001b[0m\u001b[0;34m\u001b[0m\u001b[0;34m\u001b[0m\u001b[0m\n",
      "\u001b[0;32m~/opt/anaconda3/envs/PythonData/lib/python3.7/site-packages/pandas/core/ops/__init__.py\u001b[0m in \u001b[0;36mflex_wrapper\u001b[0;34m(self, other, level, fill_value, axis)\u001b[0m\n\u001b[1;32m    568\u001b[0m \u001b[0;34m\u001b[0m\u001b[0m\n\u001b[1;32m    569\u001b[0m         \u001b[0;32mif\u001b[0m \u001b[0misinstance\u001b[0m\u001b[0;34m(\u001b[0m\u001b[0mother\u001b[0m\u001b[0;34m,\u001b[0m \u001b[0mABCSeries\u001b[0m\u001b[0;34m)\u001b[0m\u001b[0;34m:\u001b[0m\u001b[0;34m\u001b[0m\u001b[0;34m\u001b[0m\u001b[0m\n\u001b[0;32m--> 570\u001b[0;31m             \u001b[0;32mreturn\u001b[0m \u001b[0mself\u001b[0m\u001b[0;34m.\u001b[0m\u001b[0m_binop\u001b[0m\u001b[0;34m(\u001b[0m\u001b[0mother\u001b[0m\u001b[0;34m,\u001b[0m \u001b[0mop\u001b[0m\u001b[0;34m,\u001b[0m \u001b[0mlevel\u001b[0m\u001b[0;34m=\u001b[0m\u001b[0mlevel\u001b[0m\u001b[0;34m,\u001b[0m \u001b[0mfill_value\u001b[0m\u001b[0;34m=\u001b[0m\u001b[0mfill_value\u001b[0m\u001b[0;34m)\u001b[0m\u001b[0;34m\u001b[0m\u001b[0;34m\u001b[0m\u001b[0m\n\u001b[0m\u001b[1;32m    571\u001b[0m         \u001b[0;32melif\u001b[0m \u001b[0misinstance\u001b[0m\u001b[0;34m(\u001b[0m\u001b[0mother\u001b[0m\u001b[0;34m,\u001b[0m \u001b[0;34m(\u001b[0m\u001b[0mnp\u001b[0m\u001b[0;34m.\u001b[0m\u001b[0mndarray\u001b[0m\u001b[0;34m,\u001b[0m \u001b[0mlist\u001b[0m\u001b[0;34m,\u001b[0m \u001b[0mtuple\u001b[0m\u001b[0;34m)\u001b[0m\u001b[0;34m)\u001b[0m\u001b[0;34m:\u001b[0m\u001b[0;34m\u001b[0m\u001b[0;34m\u001b[0m\u001b[0m\n\u001b[1;32m    572\u001b[0m             \u001b[0;32mif\u001b[0m \u001b[0mlen\u001b[0m\u001b[0;34m(\u001b[0m\u001b[0mother\u001b[0m\u001b[0;34m)\u001b[0m \u001b[0;34m!=\u001b[0m \u001b[0mlen\u001b[0m\u001b[0;34m(\u001b[0m\u001b[0mself\u001b[0m\u001b[0;34m)\u001b[0m\u001b[0;34m:\u001b[0m\u001b[0;34m\u001b[0m\u001b[0;34m\u001b[0m\u001b[0m\n",
      "\u001b[0;32m~/opt/anaconda3/envs/PythonData/lib/python3.7/site-packages/pandas/core/series.py\u001b[0m in \u001b[0;36m_binop\u001b[0;34m(self, other, func, level, fill_value)\u001b[0m\n\u001b[1;32m   2616\u001b[0m \u001b[0;34m\u001b[0m\u001b[0m\n\u001b[1;32m   2617\u001b[0m         \u001b[0;32mwith\u001b[0m \u001b[0mnp\u001b[0m\u001b[0;34m.\u001b[0m\u001b[0merrstate\u001b[0m\u001b[0;34m(\u001b[0m\u001b[0mall\u001b[0m\u001b[0;34m=\u001b[0m\u001b[0;34m\"ignore\"\u001b[0m\u001b[0;34m)\u001b[0m\u001b[0;34m:\u001b[0m\u001b[0;34m\u001b[0m\u001b[0;34m\u001b[0m\u001b[0m\n\u001b[0;32m-> 2618\u001b[0;31m             \u001b[0mresult\u001b[0m \u001b[0;34m=\u001b[0m \u001b[0mfunc\u001b[0m\u001b[0;34m(\u001b[0m\u001b[0mthis_vals\u001b[0m\u001b[0;34m,\u001b[0m \u001b[0mother_vals\u001b[0m\u001b[0;34m)\u001b[0m\u001b[0;34m\u001b[0m\u001b[0;34m\u001b[0m\u001b[0m\n\u001b[0m\u001b[1;32m   2619\u001b[0m \u001b[0;34m\u001b[0m\u001b[0m\n\u001b[1;32m   2620\u001b[0m         \u001b[0mname\u001b[0m \u001b[0;34m=\u001b[0m \u001b[0mops\u001b[0m\u001b[0;34m.\u001b[0m\u001b[0mget_op_result_name\u001b[0m\u001b[0;34m(\u001b[0m\u001b[0mself\u001b[0m\u001b[0;34m,\u001b[0m \u001b[0mother\u001b[0m\u001b[0;34m)\u001b[0m\u001b[0;34m\u001b[0m\u001b[0;34m\u001b[0m\u001b[0m\n",
      "\u001b[0;31mTypeError\u001b[0m: unsupported operand type(s) for /: 'int' and 'str'"
     ]
    }
   ],
   "source": [
    "\n",
    "# #create dataframe for school summary\n",
    "\n",
    "# # Merge schools and students\n",
    "school_summary = pd.merge(school_data, student_data, on='school_name')\n",
    "school_summary = school_data_total.drop(['School ID', 'Student ID'], axis=1)\n",
    "\n",
    "#calculate student count\n",
    "student_count = school_summary.groupby(\"school_name\")[\"student_name\"].sum()\n",
    "\n",
    "#calculate per student budget\n",
    "per_capita_spending = school_summary[\"budget\"].div(school_summary[\"student_name\"])\n",
    "\n",
    "#calcualte math pass\n",
    "math_70_or_higher = school_summary.loc[df[\"math_score\"] >= 70].nunique()[\"school_name\"]\n",
    "\n",
    "#calculate reading pass\n",
    "reading_70_or_higher = school_summary.loc[df[\"reading_score\"] >= 70].nunique()[\"school_name\"]\n",
    "\n",
    "# Select only the rows where both math and reading scores are 70 or higher\n",
    "passed_both = school_summary[(df['math_score'] >= 70) & (df['reading_score'] >= 70)]\n",
    "\n",
    "# Calculate the passing rate for math and reading by dividing the number of students who passed by the total student count\n",
    "passing_rates = school_summary.assign(math_passing_rate=math_70_or_higher['math_70_or_higher'] / df['student_count'],\n",
    "                          reading_passing_rate=reading_70_or_higher['reading_70_or_higher'] / df['student_count'])\n",
    "\n",
    "# Calculate the passing rate for math and reading by dividing the number of students who passed by the total student count\n",
    "passing_rates = school_summary.assign(math_passing_rate=math_70_or_higher['math_70_or_higher'] / df['student_count'],\n",
    "                          reading_passing_rate=reading_70_or_higher['reading_70_or_higher'] / df['student_count'])\n",
    "# Merge the dataframes on school_name\n",
    "per_school_summary = pd.merge(student_count, per_capita_spending, on='school_name')\n",
    "per_school_summary = pd.merge(per_school_summary, avg_test_scores, on='school_name')\n",
    "per_school_summary = pd.merge(per_school_summary, math_70_or_higher, on='school_name')\n",
    "per_school_summary = pd.merge(per_school_summary, reading_70_or_higher, on='school_name')\n",
    "per_school_summary = pd.mer\n",
    "\n",
    "\n",
    "\n",
    "\n",
    "\n",
    "# school_summary = pd.DataFrame({\"School\": school_total_unique,\n",
    "#                                \"Type\" : school_type,\n",
    "#                                  \"Total Students\": total_students,\n",
    "#                                  \"Total Budget\": total_budget,\n",
    "#                                  \"Average Math Score\": average_math_score,\n",
    "#                                  \"Average Reading Score\": average_reading_score,\n",
    "#                                  \"% Passing Math\": avg_pass_math,\n",
    "#                                  \"% Passing Reading\": avg_pass_read,\n",
    "#                                  \"% Overall Pass Rate\": overall_pass})\n",
    "#  #Reorganize columns with double brackets\n",
    "# school_summary = school_summary[[\"School\", \"Total Students\", \"Total Budget\", \n",
    "#                                       \"Average Math Score\", \"Average Reading Score\", \n",
    "#                                       \"% Passing Math\", \"% Passing Reading\", \"% Overall Pass Rate\"]]\n",
    "\n",
    "\n",
    "# school_summary"
   ]
  },
  {
   "cell_type": "code",
   "execution_count": 47,
   "id": "0aaef280",
   "metadata": {},
   "outputs": [
    {
     "data": {
      "text/html": [
       "<div>\n",
       "<style scoped>\n",
       "    .dataframe tbody tr th:only-of-type {\n",
       "        vertical-align: middle;\n",
       "    }\n",
       "\n",
       "    .dataframe tbody tr th {\n",
       "        vertical-align: top;\n",
       "    }\n",
       "\n",
       "    .dataframe thead th {\n",
       "        text-align: right;\n",
       "    }\n",
       "</style>\n",
       "<table border=\"1\" class=\"dataframe\">\n",
       "  <thead>\n",
       "    <tr style=\"text-align: right;\">\n",
       "      <th></th>\n",
       "      <th>Student ID</th>\n",
       "      <th>student_name</th>\n",
       "      <th>gender</th>\n",
       "      <th>grade</th>\n",
       "      <th>school_name</th>\n",
       "      <th>reading_score</th>\n",
       "      <th>math_score</th>\n",
       "      <th>School ID</th>\n",
       "      <th>type</th>\n",
       "      <th>size</th>\n",
       "      <th>budget</th>\n",
       "    </tr>\n",
       "  </thead>\n",
       "  <tbody>\n",
       "    <tr>\n",
       "      <th>0</th>\n",
       "      <td>0</td>\n",
       "      <td>Paul Bradley</td>\n",
       "      <td>M</td>\n",
       "      <td>9th</td>\n",
       "      <td>Huang High School</td>\n",
       "      <td>66</td>\n",
       "      <td>79</td>\n",
       "      <td>0</td>\n",
       "      <td>District</td>\n",
       "      <td>2917</td>\n",
       "      <td>1910635</td>\n",
       "    </tr>\n",
       "    <tr>\n",
       "      <th>1</th>\n",
       "      <td>1</td>\n",
       "      <td>Victor Smith</td>\n",
       "      <td>M</td>\n",
       "      <td>12th</td>\n",
       "      <td>Huang High School</td>\n",
       "      <td>94</td>\n",
       "      <td>61</td>\n",
       "      <td>0</td>\n",
       "      <td>District</td>\n",
       "      <td>2917</td>\n",
       "      <td>1910635</td>\n",
       "    </tr>\n",
       "    <tr>\n",
       "      <th>2</th>\n",
       "      <td>2</td>\n",
       "      <td>Kevin Rodriguez</td>\n",
       "      <td>M</td>\n",
       "      <td>12th</td>\n",
       "      <td>Huang High School</td>\n",
       "      <td>90</td>\n",
       "      <td>60</td>\n",
       "      <td>0</td>\n",
       "      <td>District</td>\n",
       "      <td>2917</td>\n",
       "      <td>1910635</td>\n",
       "    </tr>\n",
       "    <tr>\n",
       "      <th>3</th>\n",
       "      <td>3</td>\n",
       "      <td>Dr. Richard Scott</td>\n",
       "      <td>M</td>\n",
       "      <td>12th</td>\n",
       "      <td>Huang High School</td>\n",
       "      <td>67</td>\n",
       "      <td>58</td>\n",
       "      <td>0</td>\n",
       "      <td>District</td>\n",
       "      <td>2917</td>\n",
       "      <td>1910635</td>\n",
       "    </tr>\n",
       "    <tr>\n",
       "      <th>4</th>\n",
       "      <td>4</td>\n",
       "      <td>Bonnie Ray</td>\n",
       "      <td>F</td>\n",
       "      <td>9th</td>\n",
       "      <td>Huang High School</td>\n",
       "      <td>97</td>\n",
       "      <td>84</td>\n",
       "      <td>0</td>\n",
       "      <td>District</td>\n",
       "      <td>2917</td>\n",
       "      <td>1910635</td>\n",
       "    </tr>\n",
       "    <tr>\n",
       "      <th>...</th>\n",
       "      <td>...</td>\n",
       "      <td>...</td>\n",
       "      <td>...</td>\n",
       "      <td>...</td>\n",
       "      <td>...</td>\n",
       "      <td>...</td>\n",
       "      <td>...</td>\n",
       "      <td>...</td>\n",
       "      <td>...</td>\n",
       "      <td>...</td>\n",
       "      <td>...</td>\n",
       "    </tr>\n",
       "    <tr>\n",
       "      <th>39165</th>\n",
       "      <td>39165</td>\n",
       "      <td>Donna Howard</td>\n",
       "      <td>F</td>\n",
       "      <td>12th</td>\n",
       "      <td>Thomas High School</td>\n",
       "      <td>99</td>\n",
       "      <td>90</td>\n",
       "      <td>14</td>\n",
       "      <td>Charter</td>\n",
       "      <td>1635</td>\n",
       "      <td>1043130</td>\n",
       "    </tr>\n",
       "    <tr>\n",
       "      <th>39166</th>\n",
       "      <td>39166</td>\n",
       "      <td>Dawn Bell</td>\n",
       "      <td>F</td>\n",
       "      <td>10th</td>\n",
       "      <td>Thomas High School</td>\n",
       "      <td>95</td>\n",
       "      <td>70</td>\n",
       "      <td>14</td>\n",
       "      <td>Charter</td>\n",
       "      <td>1635</td>\n",
       "      <td>1043130</td>\n",
       "    </tr>\n",
       "    <tr>\n",
       "      <th>39167</th>\n",
       "      <td>39167</td>\n",
       "      <td>Rebecca Tanner</td>\n",
       "      <td>F</td>\n",
       "      <td>9th</td>\n",
       "      <td>Thomas High School</td>\n",
       "      <td>73</td>\n",
       "      <td>84</td>\n",
       "      <td>14</td>\n",
       "      <td>Charter</td>\n",
       "      <td>1635</td>\n",
       "      <td>1043130</td>\n",
       "    </tr>\n",
       "    <tr>\n",
       "      <th>39168</th>\n",
       "      <td>39168</td>\n",
       "      <td>Desiree Kidd</td>\n",
       "      <td>F</td>\n",
       "      <td>10th</td>\n",
       "      <td>Thomas High School</td>\n",
       "      <td>99</td>\n",
       "      <td>90</td>\n",
       "      <td>14</td>\n",
       "      <td>Charter</td>\n",
       "      <td>1635</td>\n",
       "      <td>1043130</td>\n",
       "    </tr>\n",
       "    <tr>\n",
       "      <th>39169</th>\n",
       "      <td>39169</td>\n",
       "      <td>Carolyn Jackson</td>\n",
       "      <td>F</td>\n",
       "      <td>11th</td>\n",
       "      <td>Thomas High School</td>\n",
       "      <td>95</td>\n",
       "      <td>75</td>\n",
       "      <td>14</td>\n",
       "      <td>Charter</td>\n",
       "      <td>1635</td>\n",
       "      <td>1043130</td>\n",
       "    </tr>\n",
       "  </tbody>\n",
       "</table>\n",
       "<p>39170 rows × 11 columns</p>\n",
       "</div>"
      ],
      "text/plain": [
       "       Student ID       student_name gender grade         school_name  \\\n",
       "0               0       Paul Bradley      M   9th   Huang High School   \n",
       "1               1       Victor Smith      M  12th   Huang High School   \n",
       "2               2    Kevin Rodriguez      M  12th   Huang High School   \n",
       "3               3  Dr. Richard Scott      M  12th   Huang High School   \n",
       "4               4         Bonnie Ray      F   9th   Huang High School   \n",
       "...           ...                ...    ...   ...                 ...   \n",
       "39165       39165       Donna Howard      F  12th  Thomas High School   \n",
       "39166       39166          Dawn Bell      F  10th  Thomas High School   \n",
       "39167       39167     Rebecca Tanner      F   9th  Thomas High School   \n",
       "39168       39168       Desiree Kidd      F  10th  Thomas High School   \n",
       "39169       39169    Carolyn Jackson      F  11th  Thomas High School   \n",
       "\n",
       "       reading_score  math_score  School ID      type  size   budget  \n",
       "0                 66          79          0  District  2917  1910635  \n",
       "1                 94          61          0  District  2917  1910635  \n",
       "2                 90          60          0  District  2917  1910635  \n",
       "3                 67          58          0  District  2917  1910635  \n",
       "4                 97          84          0  District  2917  1910635  \n",
       "...              ...         ...        ...       ...   ...      ...  \n",
       "39165             99          90         14   Charter  1635  1043130  \n",
       "39166             95          70         14   Charter  1635  1043130  \n",
       "39167             73          84         14   Charter  1635  1043130  \n",
       "39168             99          90         14   Charter  1635  1043130  \n",
       "39169             95          75         14   Charter  1635  1043130  \n",
       "\n",
       "[39170 rows x 11 columns]"
      ]
     },
     "execution_count": 47,
     "metadata": {},
     "output_type": "execute_result"
    }
   ],
   "source": [
    "#Sort the schools by % Overall Passing in descending order and display the top 5 rows.\n",
    "#Save the results in a DataFrame called \"top_schools\".\n",
    "#school_data_total.sort_values(by=['school_name','% Overall Pass Rate'], inplace=False)\n",
    "school_data_total"
   ]
  },
  {
   "cell_type": "code",
   "execution_count": null,
   "id": "ed419f51",
   "metadata": {},
   "outputs": [],
   "source": []
  },
  {
   "cell_type": "code",
   "execution_count": null,
   "id": "5ab63403",
   "metadata": {},
   "outputs": [],
   "source": []
  },
  {
   "cell_type": "code",
   "execution_count": null,
   "id": "2b263357",
   "metadata": {},
   "outputs": [],
   "source": []
  },
  {
   "cell_type": "code",
   "execution_count": null,
   "id": "7a28a1e7",
   "metadata": {},
   "outputs": [],
   "source": []
  },
  {
   "cell_type": "code",
   "execution_count": null,
   "id": "b24d5fa2",
   "metadata": {},
   "outputs": [],
   "source": []
  },
  {
   "cell_type": "code",
   "execution_count": null,
   "id": "0c5e637b",
   "metadata": {},
   "outputs": [],
   "source": []
  }
 ],
 "metadata": {
  "kernelspec": {
   "display_name": "Python 3 (ipykernel)",
   "language": "python",
   "name": "python3"
  },
  "language_info": {
   "codemirror_mode": {
    "name": "ipython",
    "version": 3
   },
   "file_extension": ".py",
   "mimetype": "text/x-python",
   "name": "python",
   "nbconvert_exporter": "python",
   "pygments_lexer": "ipython3",
   "version": "3.7.7"
  },
  "vscode": {
   "interpreter": {
    "hash": "31f2aee4e71d21fbe5cf8b01ff0e069b9275f58929596ceb00d14d90e3e16cd6"
   }
  }
 },
 "nbformat": 4,
 "nbformat_minor": 5
}
